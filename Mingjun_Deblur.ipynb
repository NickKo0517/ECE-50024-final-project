{
 "cells": [
  {
   "cell_type": "code",
   "execution_count": 3,
   "metadata": {},
   "outputs": [],
   "source": [
    "import numpy as np\n",
    "from scipy.ndimage import gaussian_filter"
   ]
  },
  {
   "cell_type": "code",
   "execution_count": 7,
   "metadata": {},
   "outputs": [
    {
     "name": "stdout",
     "output_type": "stream",
     "text": [
      "(9, 9)\n"
     ]
    }
   ],
   "source": [
    "# this cell is to impement the mtalab code\n",
    "#h = fspecial('gaussian',[9 9],1); % generator a filter.\n",
    "'''\n",
    "    This exmaple is to generate a gaussian filter with a 9 x 9 size \n",
    "    and 1 std. \n",
    "'''\n",
    "\n",
    "# Create a 9x9 grid with a standard deviation of 1\n",
    "sigma = 1  # Standard deviation\n",
    "size = (9, 9)  # Size of the kernel\n",
    "\n",
    "def gaus_fiter_gen(sigma, size):\n",
    "    x = np.arange(-size[0]//2 + 1., size[0]//2 + 1.)\n",
    "    y = np.arange(-size[1]//2 + 1., size[1]//2 + 1.)\n",
    "    x, y = np.meshgrid(x, y)\n",
    "    h = np.exp(-(x**2 + y**2) / (2. * sigma**2))\n",
    "    h = h / np.sum(h)  # Normalize\n",
    "    \n",
    "    return h\n",
    "\n",
    "H = gaus_fiter_gen(sigma, size)\n",
    "print(H.shape)\n"
   ]
  }
 ],
 "metadata": {
  "kernelspec": {
   "display_name": "Python 3",
   "language": "python",
   "name": "python3"
  },
  "language_info": {
   "codemirror_mode": {
    "name": "ipython",
    "version": 3
   },
   "file_extension": ".py",
   "mimetype": "text/x-python",
   "name": "python",
   "nbconvert_exporter": "python",
   "pygments_lexer": "ipython3",
   "version": "3.11.5"
  }
 },
 "nbformat": 4,
 "nbformat_minor": 2
}
