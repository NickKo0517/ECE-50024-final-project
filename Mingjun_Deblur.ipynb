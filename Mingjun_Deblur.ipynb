{
 "cells": [
  {
   "cell_type": "code",
   "execution_count": 1,
   "metadata": {},
   "outputs": [],
   "source": [
    "import numpy as np\n",
    "from scipy.ndimage import gaussian_filter\n",
    "from PIL import Image\n",
    "import matplotlib.pyplot as plt\n",
    "from scipy.signal import convolve2d"
   ]
  },
  {
   "cell_type": "code",
   "execution_count": 2,
   "metadata": {},
   "outputs": [
    {
     "name": "stdout",
     "output_type": "stream",
     "text": [
      "(9, 9)\n"
     ]
    }
   ],
   "source": [
    "# this cell is to impement the mtalab code\n",
    "#h = fspecial('gaussian',[9 9],1); % generator a filter.\n",
    "'''\n",
    "    This exmaple is to generate a gaussian filter with a 9 x 9 size \n",
    "    and 1 std. \n",
    "'''\n",
    "\n",
    "# Create a 9x9 grid with a standard deviation of 1\n",
    "sigma = 1  # Standard deviation\n",
    "size = (9, 9)  # Size of the kernel\n",
    "\n",
    "def gaus_fiter_gen(sigma, size):\n",
    "    x = np.arange(-size[0]//2 + 1., size[0]//2 + 1.)\n",
    "    y = np.arange(-size[1]//2 + 1., size[1]//2 + 1.)\n",
    "    x, y = np.meshgrid(x, y)\n",
    "    h = np.exp(-(x**2 + y**2) / (2. * sigma**2))\n",
    "    h = h / np.sum(h)  # Normalize\n",
    "    \n",
    "    return h\n",
    "\n",
    "H = gaus_fiter_gen(sigma, size)\n",
    "print(H.shape)\n"
   ]
  },
  {
   "cell_type": "code",
   "execution_count": 3,
   "metadata": {},
   "outputs": [],
   "source": [
    "#Load the image and convert to grayscale.\n",
    "img = Image.open('A_img.jpeg').convert('L')\n",
    "\n",
    "#save the gray image\n",
    "img.save('A_img.jpg')\n",
    "\n",
    "#tanssfer the gray scale into martix\n",
    "test_pic = plt.imread('A_img.jpg') / 255 # or can use vc2 to do the same thing.\n",
    "\n",
    "# print(test_pic[250:,150:])\n",
    "# print(np.sum(test_pic))\n",
    "\n",
    "\n"
   ]
  },
  {
   "cell_type": "code",
   "execution_count": 6,
   "metadata": {},
   "outputs": [
    {
     "ename": "AttributeError",
     "evalue": "'numpy.ndarray' object has no attribute 'save'",
     "output_type": "error",
     "traceback": [
      "\u001b[0;31m---------------------------------------------------------------------------\u001b[0m",
      "\u001b[0;31mAttributeError\u001b[0m                            Traceback (most recent call last)",
      "Cell \u001b[0;32mIn[6], line 2\u001b[0m\n\u001b[1;32m      1\u001b[0m convolved_image \u001b[38;5;241m=\u001b[39m convolve2d(test_pic, H, mode\u001b[38;5;241m=\u001b[39m\u001b[38;5;124m'\u001b[39m\u001b[38;5;124msame\u001b[39m\u001b[38;5;124m'\u001b[39m, boundary\u001b[38;5;241m=\u001b[39m\u001b[38;5;124m'\u001b[39m\u001b[38;5;124mfill\u001b[39m\u001b[38;5;124m'\u001b[39m, fillvalue\u001b[38;5;241m=\u001b[39m\u001b[38;5;241m0\u001b[39m)\n\u001b[0;32m----> 2\u001b[0m \u001b[43mconvolved_image\u001b[49m\u001b[38;5;241;43m.\u001b[39;49m\u001b[43msave\u001b[49m(\u001b[38;5;124m'\u001b[39m\u001b[38;5;124mconvolved_image.jpg\u001b[39m\u001b[38;5;124m'\u001b[39m)\n",
      "\u001b[0;31mAttributeError\u001b[0m: 'numpy.ndarray' object has no attribute 'save'"
     ]
    }
   ],
   "source": [
    "convolved_image = convolve2d(test_pic, H, mode='same', boundary='fill', fillvalue=0)\n",
    "convolved_image.save('convolved_image.jpg')"
   ]
  }
 ],
 "metadata": {
  "kernelspec": {
   "display_name": "Python 3",
   "language": "python",
   "name": "python3"
  },
  "language_info": {
   "codemirror_mode": {
    "name": "ipython",
    "version": 3
   },
   "file_extension": ".py",
   "mimetype": "text/x-python",
   "name": "python",
   "nbconvert_exporter": "python",
   "pygments_lexer": "ipython3",
   "version": "3.11.5"
  }
 },
 "nbformat": 4,
 "nbformat_minor": 2
}
